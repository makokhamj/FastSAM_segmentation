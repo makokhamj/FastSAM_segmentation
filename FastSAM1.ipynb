{
 "cells": [
  {
   "cell_type": "code",
   "execution_count": 1,
   "id": "7d7168ce-cbf0-4ccd-b069-b12b80ad3cc6",
   "metadata": {},
   "outputs": [
    {
     "name": "stdout",
     "output_type": "stream",
     "text": [
      "DONE\n"
     ]
    }
   ],
   "source": [
    "import os\n",
    "import cv2\n",
    "import torch\n",
    "import roboflow\n",
    "import base64\n",
    "\n",
    "import supervision as sv\n",
    "import numpy as np\n",
    "\n",
    "from roboflow import Roboflow\n",
    "from fastsam import FastSAM, FastSAMPrompt\n",
    "from segment_anything import sam_model_registry, SamAutomaticMaskGenerator, SamPredictor\n",
    "from matplotlib.backends.backend_agg import FigureCanvasAgg\n",
    "\n",
    "print(\"DONE\")"
   ]
  },
  {
   "cell_type": "code",
   "execution_count": 10,
   "id": "e5727452-0ecb-4e99-b8cc-6c4448f8afba",
   "metadata": {},
   "outputs": [
    {
     "name": "stdout",
     "output_type": "stream",
     "text": [
      "DONE\n",
      "Python 3.10.14\n"
     ]
    }
   ],
   "source": [
    "#!wget -P {HOME}/weights -q https://huggingface.co/spaces/An-619/FastSAM/resolve/main/weights/FastSAM.pt\n",
    "print(\"DONE\")\n",
    "!python --version"
   ]
  },
  {
   "cell_type": "code",
   "execution_count": 5,
   "id": "23bfb601-6cc3-44a4-a9ed-feaba06eae42",
   "metadata": {},
   "outputs": [
    {
     "name": "stdout",
     "output_type": "stream",
     "text": [
      "DEVICE = cpu\n"
     ]
    }
   ],
   "source": [
    "DEVICE = torch.device('cuda:0' if torch.cuda.is_available() else 'cpu')\n",
    "print(f\"DEVICE = {DEVICE}\")\n",
    "fast_sam = FastSAM(\"FastSAM.pt\")"
   ]
  },
  {
   "cell_type": "code",
   "execution_count": 2,
   "id": "b1cccf5f-ff0b-4ade-a127-e785c681fb4a",
   "metadata": {},
   "outputs": [
    {
     "name": "stdout",
     "output_type": "stream",
     "text": [
      "Enter file to use with extension\n"
     ]
    },
    {
     "name": "stdin",
     "output_type": "stream",
     "text": [
      " people.jpeg\n"
     ]
    },
    {
     "name": "stdout",
     "output_type": "stream",
     "text": [
      "Enter filename to save as without extension\n"
     ]
    },
    {
     "name": "stdin",
     "output_type": "stream",
     "text": [
      " people2\n"
     ]
    },
    {
     "name": "stdout",
     "output_type": "stream",
     "text": [
      "people.jpeg people2\n",
      "DONE\n"
     ]
    }
   ],
   "source": [
    "# SELECT FILE TO USE, AS WELL AS NAME FOR NEW FILE TO BE SAVED\n",
    "\n",
    "print(\"Enter file to use with extension\")\n",
    "file_n = input()\n",
    "print(\"Enter filename to save as without extension\")\n",
    "file2_n = input()\n",
    "print(file_n, file2_n)\n",
    "print(\"DONE\")"
   ]
  },
  {
   "cell_type": "code",
   "execution_count": 3,
   "id": "f0dc8d9b-8de9-4101-bd4a-621e09ec4ee3",
   "metadata": {},
   "outputs": [
    {
     "name": "stdout",
     "output_type": "stream",
     "text": [
      "images/people.jpeg ./output/people2.jpg\n"
     ]
    }
   ],
   "source": [
    "img_r = \"images/\"\n",
    "IMAGE_PATH = f\"{img_r}{file_n}\"\n",
    "output_p = f\"{'./output'}{'/'}{file2_n}{'.jpg'}\"\n",
    "print(IMAGE_PATH, output_p)"
   ]
  },
  {
   "cell_type": "code",
   "execution_count": null,
   "id": "9e622f19-4af1-47e1-93fe-5444fca06a6f",
   "metadata": {},
   "outputs": [],
   "source": [
    "#os.makedirs(f\"./output\", exist_ok=True)"
   ]
  },
  {
   "cell_type": "code",
   "execution_count": 6,
   "id": "b6afea88-8481-4f94-8078-b14c5f5eb041",
   "metadata": {
    "scrolled": true
   },
   "outputs": [
    {
     "name": "stderr",
     "output_type": "stream",
     "text": [
      "\n",
      "image 1/1 /Users/josephmakokha/FastSAM/images/people.jpeg: 768x1024 14 objects, 2368.8ms\n",
      "Speed: 4.1ms preprocess, 2368.8ms inference, 14.5ms postprocess per image at shape (1, 3, 1024, 1024)\n",
      "Clipping input data to the valid range for imshow with RGB data ([0..1] for floats or [0..255] for integers). Got range [0.0..255.0].\n",
      "Clipping input data to the valid range for imshow with RGB data ([0..1] for floats or [0..255] for integers). Got range [0.0..255.0].\n"
     ]
    },
    {
     "name": "stdout",
     "output_type": "stream",
     "text": [
      "done with this\n"
     ]
    }
   ],
   "source": [
    "results = fast_sam(\n",
    "    source=IMAGE_PATH,\n",
    "    device=DEVICE,\n",
    "    retina_masks=True,\n",
    "    imgsz=1024,\n",
    "    conf=0.4,\n",
    "    iou=0.9)\n",
    "prompt_process = FastSAMPrompt(IMAGE_PATH, results, device=DEVICE)\n",
    "masks = prompt_process.everything_prompt()\n",
    "prompt_process.plot(annotations=masks, output_path=f\"{'./output/'}{file2_n}{'.jpg'}\")\n",
    "print(\"done with this\")"
   ]
  },
  {
   "cell_type": "code",
   "execution_count": 7,
   "id": "3b2157af-a869-4acc-9c94-e8342b705145",
   "metadata": {},
   "outputs": [
    {
     "name": "stdout",
     "output_type": "stream",
     "text": [
      "done with this too\n"
     ]
    }
   ],
   "source": [
    "# Convert masks to boolean (True/False)\n",
    "def masks_to_bool(masks):\n",
    "    if type(masks) == np.ndarray:\n",
    "        return masks.astype(bool)\n",
    "    return masks.cpu().numpy().astype(bool)\n",
    "print(\"done with this too\")"
   ]
  },
  {
   "cell_type": "code",
   "execution_count": 8,
   "id": "0b93abae-3d89-4907-9ebe-2d19e03f4711",
   "metadata": {},
   "outputs": [
    {
     "name": "stdout",
     "output_type": "stream",
     "text": [
      "done\n"
     ]
    }
   ],
   "source": [
    "def annotate_image(image_path: str, masks: np.ndarray) -> np.ndarray:\n",
    "    image = cv2.imread(image_path)\n",
    "\n",
    "    xyxy = sv.mask_to_xyxy(masks=masks)\n",
    "    detections = sv.Detections(xyxy=xyxy, mask=masks)\n",
    "\n",
    "    mask_annotator = sv.MaskAnnotator(color_lookup = sv.ColorLookup.INDEX)\n",
    "    return mask_annotator.annotate(scene=image.copy(), detections=detections)\n",
    "print(\"done\")"
   ]
  },
  {
   "cell_type": "code",
   "execution_count": 9,
   "id": "475962a1-bf86-4ba3-8d82-61f354217bcf",
   "metadata": {},
   "outputs": [],
   "source": [
    "masks = masks_to_bool(masks)\n",
    "annotated_image=annotate_image(image_path=IMAGE_PATH, masks=masks)\n",
    "sv.plot_image(image=annotated_image, size=(8, 8))"
   ]
  },
  {
   "cell_type": "code",
   "execution_count": null,
   "id": "cc917d8c-786e-47dd-bf16-be1af3c21b2b",
   "metadata": {},
   "outputs": [],
   "source": []
  }
 ],
 "metadata": {
  "kernelspec": {
   "display_name": "Python 3 (ipykernel)",
   "language": "python",
   "name": "python3"
  },
  "language_info": {
   "codemirror_mode": {
    "name": "ipython",
    "version": 3
   },
   "file_extension": ".py",
   "mimetype": "text/x-python",
   "name": "python",
   "nbconvert_exporter": "python",
   "pygments_lexer": "ipython3",
   "version": "3.10.14"
  }
 },
 "nbformat": 4,
 "nbformat_minor": 5
}
